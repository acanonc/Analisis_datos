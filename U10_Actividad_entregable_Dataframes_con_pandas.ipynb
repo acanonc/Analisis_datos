{
  "nbformat": 4,
  "nbformat_minor": 0,
  "metadata": {
    "colab": {
      "provenance": [],
      "authorship_tag": "ABX9TyMdVknk+4V27Drcv0xHN1mN",
      "include_colab_link": true
    },
    "kernelspec": {
      "name": "python3",
      "display_name": "Python 3"
    },
    "language_info": {
      "name": "python"
    }
  },
  "cells": [
    {
      "cell_type": "markdown",
      "metadata": {
        "id": "view-in-github",
        "colab_type": "text"
      },
      "source": [
        "<a href=\"https://colab.research.google.com/github/acanonc/Analisis_datos/blob/main/U10_Actividad_entregable_Dataframes_con_pandas.ipynb\" target=\"_parent\"><img src=\"https://colab.research.google.com/assets/colab-badge.svg\" alt=\"Open In Colab\"/></a>"
      ]
    },
    {
      "cell_type": "markdown",
      "source": [
        "# **DATAFRAMES CON PANDAS**\n",
        "\n",
        "---\n",
        "\n"
      ],
      "metadata": {
        "id": "gM4SgLBiQpdU"
      }
    },
    {
      "cell_type": "markdown",
      "source": [
        "## **PRIMER ANÁLISIS DE DATOS**\n",
        "\n",
        "> Taza de Cambio Representativa del Mercado TRM entre el 2014 y el 2022\n",
        "\n"
      ],
      "metadata": {
        "id": "4RvZHc6RQoWO"
      }
    },
    {
      "cell_type": "code",
      "execution_count": 5,
      "metadata": {
        "colab": {
          "base_uri": "https://localhost:8080/"
        },
        "id": "VHS8n_BCHZ0K",
        "outputId": "dbc879d1-951f-4a5b-bc48-ab2283e6d6d2"
      },
      "outputs": [
        {
          "output_type": "stream",
          "name": "stdout",
          "text": [
            "Requirement already satisfied: sodapy in /usr/local/lib/python3.10/dist-packages (2.2.0)\n",
            "Requirement already satisfied: requests>=2.28.1 in /usr/local/lib/python3.10/dist-packages (from sodapy) (2.31.0)\n",
            "Requirement already satisfied: charset-normalizer<4,>=2 in /usr/local/lib/python3.10/dist-packages (from requests>=2.28.1->sodapy) (2.0.12)\n",
            "Requirement already satisfied: idna<4,>=2.5 in /usr/local/lib/python3.10/dist-packages (from requests>=2.28.1->sodapy) (3.4)\n",
            "Requirement already satisfied: urllib3<3,>=1.21.1 in /usr/local/lib/python3.10/dist-packages (from requests>=2.28.1->sodapy) (1.26.16)\n",
            "Requirement already satisfied: certifi>=2017.4.17 in /usr/local/lib/python3.10/dist-packages (from requests>=2.28.1->sodapy) (2023.5.7)\n"
          ]
        },
        {
          "output_type": "stream",
          "name": "stderr",
          "text": [
            "WARNING:root:Requests made without an app_token will be subject to strict throttling limits.\n"
          ]
        },
        {
          "output_type": "execute_result",
          "data": {
            "text/plain": [
              "valor            object\n",
              "unidad           object\n",
              "vigenciadesde    object\n",
              "vigenciahasta    object\n",
              "dtype: object"
            ]
          },
          "metadata": {},
          "execution_count": 5
        }
      ],
      "source": [
        "!pip install sodapy\n",
        "import pandas as pd\n",
        "import numpy as np\n",
        "import matplotlib.pyplot as plt\n",
        "\n",
        "from sodapy import Socrata\n",
        "cliente = Socrata (\"www.datos.gov.co\", None)\n",
        "\n",
        "result = cliente.get(\"32sa-8pi3\")\n",
        "\n",
        "datos = pd.DataFrame.from_records (result)\n",
        "\n",
        "datos.head()\n",
        "\n",
        "#Tipo de datos\n",
        "datos.dtypes\n",
        "\n"
      ]
    },
    {
      "cell_type": "markdown",
      "source": [
        "**LIMPIEZA Y TRANSFORMACIÓN DE LOS DATOS**"
      ],
      "metadata": {
        "id": "BUfny7blRVT7"
      }
    },
    {
      "cell_type": "code",
      "source": [
        "#Renombrar la columna \"vigenciadesde\"\n",
        "datos = datos.rename( columns = {\"vigenciadesde\": \"Año\"})\n",
        "datos = datos.rename( columns = {\"valor\": \"Pesos\"})\n",
        "\n",
        "\n",
        "#Transformación del tipo de dato de la variable VALOR de un \"object\" a \"int\"\n",
        "datos['Pesos'] = datos['Pesos'].astype(float)\n",
        "datos['Pesos'] = datos['Pesos'].astype(int)\n",
        "\n",
        "#Reducir la fecha de los datos\n",
        "datos[\"Año\"] = datos.Año.str.findall(r\"\\d{4}\").str.get(0)\n",
        "\n",
        "datos['Año'] = datos['Año'].astype(int)\n",
        "\n",
        "\n",
        "#Borrar la columna \"vigenciahasta\" y \"unidad\"\n",
        "del(datos['vigenciahasta'])\n",
        "del(datos['unidad'])\n",
        "\n",
        "datos"
      ],
      "metadata": {
        "colab": {
          "base_uri": "https://localhost:8080/",
          "height": 424
        },
        "id": "aL69cxEiRg8i",
        "outputId": "288c0514-cb3b-47db-dd56-50992f183856"
      },
      "execution_count": 6,
      "outputs": [
        {
          "output_type": "execute_result",
          "data": {
            "text/plain": [
              "     Pesos   Año\n",
              "0     4761  2022\n",
              "1     4781  2022\n",
              "2     4802  2022\n",
              "3     4836  2022\n",
              "4     4815  2022\n",
              "..     ...   ...\n",
              "995   1978  2014\n",
              "996   1993  2014\n",
              "997   1998  2014\n",
              "998   2017  2014\n",
              "999   2034  2014\n",
              "\n",
              "[1000 rows x 2 columns]"
            ],
            "text/html": [
              "\n",
              "\n",
              "  <div id=\"df-b22db143-e175-4d42-bcd3-791643515a6a\">\n",
              "    <div class=\"colab-df-container\">\n",
              "      <div>\n",
              "<style scoped>\n",
              "    .dataframe tbody tr th:only-of-type {\n",
              "        vertical-align: middle;\n",
              "    }\n",
              "\n",
              "    .dataframe tbody tr th {\n",
              "        vertical-align: top;\n",
              "    }\n",
              "\n",
              "    .dataframe thead th {\n",
              "        text-align: right;\n",
              "    }\n",
              "</style>\n",
              "<table border=\"1\" class=\"dataframe\">\n",
              "  <thead>\n",
              "    <tr style=\"text-align: right;\">\n",
              "      <th></th>\n",
              "      <th>Pesos</th>\n",
              "      <th>Año</th>\n",
              "    </tr>\n",
              "  </thead>\n",
              "  <tbody>\n",
              "    <tr>\n",
              "      <th>0</th>\n",
              "      <td>4761</td>\n",
              "      <td>2022</td>\n",
              "    </tr>\n",
              "    <tr>\n",
              "      <th>1</th>\n",
              "      <td>4781</td>\n",
              "      <td>2022</td>\n",
              "    </tr>\n",
              "    <tr>\n",
              "      <th>2</th>\n",
              "      <td>4802</td>\n",
              "      <td>2022</td>\n",
              "    </tr>\n",
              "    <tr>\n",
              "      <th>3</th>\n",
              "      <td>4836</td>\n",
              "      <td>2022</td>\n",
              "    </tr>\n",
              "    <tr>\n",
              "      <th>4</th>\n",
              "      <td>4815</td>\n",
              "      <td>2022</td>\n",
              "    </tr>\n",
              "    <tr>\n",
              "      <th>...</th>\n",
              "      <td>...</td>\n",
              "      <td>...</td>\n",
              "    </tr>\n",
              "    <tr>\n",
              "      <th>995</th>\n",
              "      <td>1978</td>\n",
              "      <td>2014</td>\n",
              "    </tr>\n",
              "    <tr>\n",
              "      <th>996</th>\n",
              "      <td>1993</td>\n",
              "      <td>2014</td>\n",
              "    </tr>\n",
              "    <tr>\n",
              "      <th>997</th>\n",
              "      <td>1998</td>\n",
              "      <td>2014</td>\n",
              "    </tr>\n",
              "    <tr>\n",
              "      <th>998</th>\n",
              "      <td>2017</td>\n",
              "      <td>2014</td>\n",
              "    </tr>\n",
              "    <tr>\n",
              "      <th>999</th>\n",
              "      <td>2034</td>\n",
              "      <td>2014</td>\n",
              "    </tr>\n",
              "  </tbody>\n",
              "</table>\n",
              "<p>1000 rows × 2 columns</p>\n",
              "</div>\n",
              "      <button class=\"colab-df-convert\" onclick=\"convertToInteractive('df-b22db143-e175-4d42-bcd3-791643515a6a')\"\n",
              "              title=\"Convert this dataframe to an interactive table.\"\n",
              "              style=\"display:none;\">\n",
              "\n",
              "  <svg xmlns=\"http://www.w3.org/2000/svg\" height=\"24px\"viewBox=\"0 0 24 24\"\n",
              "       width=\"24px\">\n",
              "    <path d=\"M0 0h24v24H0V0z\" fill=\"none\"/>\n",
              "    <path d=\"M18.56 5.44l.94 2.06.94-2.06 2.06-.94-2.06-.94-.94-2.06-.94 2.06-2.06.94zm-11 1L8.5 8.5l.94-2.06 2.06-.94-2.06-.94L8.5 2.5l-.94 2.06-2.06.94zm10 10l.94 2.06.94-2.06 2.06-.94-2.06-.94-.94-2.06-.94 2.06-2.06.94z\"/><path d=\"M17.41 7.96l-1.37-1.37c-.4-.4-.92-.59-1.43-.59-.52 0-1.04.2-1.43.59L10.3 9.45l-7.72 7.72c-.78.78-.78 2.05 0 2.83L4 21.41c.39.39.9.59 1.41.59.51 0 1.02-.2 1.41-.59l7.78-7.78 2.81-2.81c.8-.78.8-2.07 0-2.86zM5.41 20L4 18.59l7.72-7.72 1.47 1.35L5.41 20z\"/>\n",
              "  </svg>\n",
              "      </button>\n",
              "\n",
              "\n",
              "\n",
              "    <div id=\"df-87e59dff-e70b-46c6-bae2-759fe059400f\">\n",
              "      <button class=\"colab-df-quickchart\" onclick=\"quickchart('df-87e59dff-e70b-46c6-bae2-759fe059400f')\"\n",
              "              title=\"Suggest charts.\"\n",
              "              style=\"display:none;\">\n",
              "\n",
              "<svg xmlns=\"http://www.w3.org/2000/svg\" height=\"24px\"viewBox=\"0 0 24 24\"\n",
              "     width=\"24px\">\n",
              "    <g>\n",
              "        <path d=\"M19 3H5c-1.1 0-2 .9-2 2v14c0 1.1.9 2 2 2h14c1.1 0 2-.9 2-2V5c0-1.1-.9-2-2-2zM9 17H7v-7h2v7zm4 0h-2V7h2v10zm4 0h-2v-4h2v4z\"/>\n",
              "    </g>\n",
              "</svg>\n",
              "      </button>\n",
              "    </div>\n",
              "\n",
              "<style>\n",
              "  .colab-df-quickchart {\n",
              "    background-color: #E8F0FE;\n",
              "    border: none;\n",
              "    border-radius: 50%;\n",
              "    cursor: pointer;\n",
              "    display: none;\n",
              "    fill: #1967D2;\n",
              "    height: 32px;\n",
              "    padding: 0 0 0 0;\n",
              "    width: 32px;\n",
              "  }\n",
              "\n",
              "  .colab-df-quickchart:hover {\n",
              "    background-color: #E2EBFA;\n",
              "    box-shadow: 0px 1px 2px rgba(60, 64, 67, 0.3), 0px 1px 3px 1px rgba(60, 64, 67, 0.15);\n",
              "    fill: #174EA6;\n",
              "  }\n",
              "\n",
              "  [theme=dark] .colab-df-quickchart {\n",
              "    background-color: #3B4455;\n",
              "    fill: #D2E3FC;\n",
              "  }\n",
              "\n",
              "  [theme=dark] .colab-df-quickchart:hover {\n",
              "    background-color: #434B5C;\n",
              "    box-shadow: 0px 1px 3px 1px rgba(0, 0, 0, 0.15);\n",
              "    filter: drop-shadow(0px 1px 2px rgba(0, 0, 0, 0.3));\n",
              "    fill: #FFFFFF;\n",
              "  }\n",
              "</style>\n",
              "\n",
              "    <script>\n",
              "      async function quickchart(key) {\n",
              "        const containerElement = document.querySelector('#' + key);\n",
              "        const charts = await google.colab.kernel.invokeFunction(\n",
              "            'suggestCharts', [key], {});\n",
              "      }\n",
              "    </script>\n",
              "\n",
              "      <script>\n",
              "\n",
              "function displayQuickchartButton(domScope) {\n",
              "  let quickchartButtonEl =\n",
              "    domScope.querySelector('#df-87e59dff-e70b-46c6-bae2-759fe059400f button.colab-df-quickchart');\n",
              "  quickchartButtonEl.style.display =\n",
              "    google.colab.kernel.accessAllowed ? 'block' : 'none';\n",
              "}\n",
              "\n",
              "        displayQuickchartButton(document);\n",
              "      </script>\n",
              "      <style>\n",
              "    .colab-df-container {\n",
              "      display:flex;\n",
              "      flex-wrap:wrap;\n",
              "      gap: 12px;\n",
              "    }\n",
              "\n",
              "    .colab-df-convert {\n",
              "      background-color: #E8F0FE;\n",
              "      border: none;\n",
              "      border-radius: 50%;\n",
              "      cursor: pointer;\n",
              "      display: none;\n",
              "      fill: #1967D2;\n",
              "      height: 32px;\n",
              "      padding: 0 0 0 0;\n",
              "      width: 32px;\n",
              "    }\n",
              "\n",
              "    .colab-df-convert:hover {\n",
              "      background-color: #E2EBFA;\n",
              "      box-shadow: 0px 1px 2px rgba(60, 64, 67, 0.3), 0px 1px 3px 1px rgba(60, 64, 67, 0.15);\n",
              "      fill: #174EA6;\n",
              "    }\n",
              "\n",
              "    [theme=dark] .colab-df-convert {\n",
              "      background-color: #3B4455;\n",
              "      fill: #D2E3FC;\n",
              "    }\n",
              "\n",
              "    [theme=dark] .colab-df-convert:hover {\n",
              "      background-color: #434B5C;\n",
              "      box-shadow: 0px 1px 3px 1px rgba(0, 0, 0, 0.15);\n",
              "      filter: drop-shadow(0px 1px 2px rgba(0, 0, 0, 0.3));\n",
              "      fill: #FFFFFF;\n",
              "    }\n",
              "  </style>\n",
              "\n",
              "      <script>\n",
              "        const buttonEl =\n",
              "          document.querySelector('#df-b22db143-e175-4d42-bcd3-791643515a6a button.colab-df-convert');\n",
              "        buttonEl.style.display =\n",
              "          google.colab.kernel.accessAllowed ? 'block' : 'none';\n",
              "\n",
              "        async function convertToInteractive(key) {\n",
              "          const element = document.querySelector('#df-b22db143-e175-4d42-bcd3-791643515a6a');\n",
              "          const dataTable =\n",
              "            await google.colab.kernel.invokeFunction('convertToInteractive',\n",
              "                                                     [key], {});\n",
              "          if (!dataTable) return;\n",
              "\n",
              "          const docLinkHtml = 'Like what you see? Visit the ' +\n",
              "            '<a target=\"_blank\" href=https://colab.research.google.com/notebooks/data_table.ipynb>data table notebook</a>'\n",
              "            + ' to learn more about interactive tables.';\n",
              "          element.innerHTML = '';\n",
              "          dataTable['output_type'] = 'display_data';\n",
              "          await google.colab.output.renderOutput(dataTable, element);\n",
              "          const docLink = document.createElement('div');\n",
              "          docLink.innerHTML = docLinkHtml;\n",
              "          element.appendChild(docLink);\n",
              "        }\n",
              "      </script>\n",
              "    </div>\n",
              "  </div>\n"
            ]
          },
          "metadata": {},
          "execution_count": 6
        }
      ]
    },
    {
      "cell_type": "markdown",
      "source": [
        "**DATOS ESTADÍSTICOS**"
      ],
      "metadata": {
        "id": "vU5TvM9dRtFe"
      }
    },
    {
      "cell_type": "code",
      "source": [
        "#CALCULO DE LA MEDIA\n",
        "media = datos.Pesos.mean()\n",
        "print(f\"La MEDIA de la Taza de Cambio Representativa del Mercado es de ${media} COL\")\n",
        "\n",
        "print(\"--------------------------------------------------\")\n",
        "\n",
        "#CALCULO DE LA MEDIANA\n",
        "mediana = datos.Pesos.median()\n",
        "print(f\"La MEDIANA de la Taza de Cambio Representativa del Mercado es de ${mediana} COL\")\n",
        "\n",
        "print(\"--------------------------------------------------\")\n",
        "\n",
        "#CALCULO DE LA DESVIACIÓN ESTÁNDAR\n",
        "desviacion_estandar = datos.Pesos.std()\n",
        "print(f\"La DESVIACIÓN ESTÁNDAR de la Taza de Cambio Representativa del Mercado es de {desviacion_estandar.round(2)}\")\n",
        "\n",
        "print(\"--------------------------------------------------\")\n",
        "\n",
        "#CALCULO DEL MÁXIMO VALOR\n",
        "valor_maximo = datos.Pesos.max()\n",
        "print(f\"El VALOR MÁXIMO de la Taza de Cambio Representativa del Mercado es de ${valor_maximo} COL\")\n",
        "\n",
        "print(\"--------------------------------------------------\")\n",
        "\n",
        "#CALCULO DEL MÍNIMO VALOR\n",
        "valor_minimo = datos.Pesos.min()\n",
        "print(f\"El VALOR MÍNIMO de la Taza de Cambio Representativa del Mercado es de ${valor_minimo} COL\")\n",
        "\n",
        "print(\"--------------------------------------------------\")\n",
        "\n",
        "#CALCULO DEL RANGO\n",
        "rango = valor_maximo - valor_minimo\n",
        "print(f\"El RANGO de la Taza de Cambio Representativa del Mercado es {rango}\")\n",
        "\n",
        "print(\"--------------------------------------------------\")\n",
        "\n",
        "#RESUMEN DE DATOS NÚMERICOS\n",
        "print(f\"Resumen de datos: \\n Media: ${media} COL \\n Mediana: ${mediana} COL \\n Desviación Estándar: {desviacion_estandar} \\n Máximo Valor: ${valor_maximo} COL \\n Mínimo Valor: ${valor_minimo} COL \\n Rango: ${rango} COL\")\n",
        "\n"
      ],
      "metadata": {
        "colab": {
          "base_uri": "https://localhost:8080/"
        },
        "id": "_8wJWUrtR1YG",
        "outputId": "16ceb125-a159-4cab-e254-ba45cf7ae0ad"
      },
      "execution_count": 7,
      "outputs": [
        {
          "output_type": "stream",
          "name": "stdout",
          "text": [
            "La MEDIA de la Taza de Cambio Representativa del Mercado es de $3041.867 COL\n",
            "--------------------------------------------------\n",
            "La MEDIANA de la Taza de Cambio Representativa del Mercado es de $2972.0 COL\n",
            "--------------------------------------------------\n",
            "La DESVIACIÓN ESTÁNDAR de la Taza de Cambio Representativa del Mercado es de 730.69\n",
            "--------------------------------------------------\n",
            "El VALOR MÁXIMO de la Taza de Cambio Representativa del Mercado es de $5061 COL\n",
            "--------------------------------------------------\n",
            "El VALOR MÍNIMO de la Taza de Cambio Representativa del Mercado es de $1846 COL\n",
            "--------------------------------------------------\n",
            "El RANGO de la Taza de Cambio Representativa del Mercado es 3215\n",
            "--------------------------------------------------\n",
            "Resumen de datos: \n",
            " Media: $3041.867 COL \n",
            " Mediana: $2972.0 COL \n",
            " Desviación Estándar: 730.6922036038208 \n",
            " Máximo Valor: $5061 COL \n",
            " Mínimo Valor: $1846 COL \n",
            " Rango: $3215 COL\n"
          ]
        }
      ]
    },
    {
      "cell_type": "markdown",
      "source": [
        "**INFORMACIÓN GENERAL DEL DATASET**"
      ],
      "metadata": {
        "id": "qVpuRN-CSEWA"
      }
    },
    {
      "cell_type": "code",
      "source": [
        "#INFORMACIÓN GENERAL DEL DATASET\n",
        "datos.info()\n",
        "\n",
        "datos"
      ],
      "metadata": {
        "colab": {
          "base_uri": "https://localhost:8080/",
          "height": 580
        },
        "id": "_oWdWvlRSFPl",
        "outputId": "fdc913a4-e4a1-4b8f-d9e2-025d2dacb17d"
      },
      "execution_count": 8,
      "outputs": [
        {
          "output_type": "stream",
          "name": "stdout",
          "text": [
            "<class 'pandas.core.frame.DataFrame'>\n",
            "RangeIndex: 1000 entries, 0 to 999\n",
            "Data columns (total 2 columns):\n",
            " #   Column  Non-Null Count  Dtype\n",
            "---  ------  --------------  -----\n",
            " 0   Pesos   1000 non-null   int64\n",
            " 1   Año     1000 non-null   int64\n",
            "dtypes: int64(2)\n",
            "memory usage: 15.8 KB\n"
          ]
        },
        {
          "output_type": "execute_result",
          "data": {
            "text/plain": [
              "     Pesos   Año\n",
              "0     4761  2022\n",
              "1     4781  2022\n",
              "2     4802  2022\n",
              "3     4836  2022\n",
              "4     4815  2022\n",
              "..     ...   ...\n",
              "995   1978  2014\n",
              "996   1993  2014\n",
              "997   1998  2014\n",
              "998   2017  2014\n",
              "999   2034  2014\n",
              "\n",
              "[1000 rows x 2 columns]"
            ],
            "text/html": [
              "\n",
              "\n",
              "  <div id=\"df-dfb32b16-0436-42ab-8eb8-ffdd4d7edfe9\">\n",
              "    <div class=\"colab-df-container\">\n",
              "      <div>\n",
              "<style scoped>\n",
              "    .dataframe tbody tr th:only-of-type {\n",
              "        vertical-align: middle;\n",
              "    }\n",
              "\n",
              "    .dataframe tbody tr th {\n",
              "        vertical-align: top;\n",
              "    }\n",
              "\n",
              "    .dataframe thead th {\n",
              "        text-align: right;\n",
              "    }\n",
              "</style>\n",
              "<table border=\"1\" class=\"dataframe\">\n",
              "  <thead>\n",
              "    <tr style=\"text-align: right;\">\n",
              "      <th></th>\n",
              "      <th>Pesos</th>\n",
              "      <th>Año</th>\n",
              "    </tr>\n",
              "  </thead>\n",
              "  <tbody>\n",
              "    <tr>\n",
              "      <th>0</th>\n",
              "      <td>4761</td>\n",
              "      <td>2022</td>\n",
              "    </tr>\n",
              "    <tr>\n",
              "      <th>1</th>\n",
              "      <td>4781</td>\n",
              "      <td>2022</td>\n",
              "    </tr>\n",
              "    <tr>\n",
              "      <th>2</th>\n",
              "      <td>4802</td>\n",
              "      <td>2022</td>\n",
              "    </tr>\n",
              "    <tr>\n",
              "      <th>3</th>\n",
              "      <td>4836</td>\n",
              "      <td>2022</td>\n",
              "    </tr>\n",
              "    <tr>\n",
              "      <th>4</th>\n",
              "      <td>4815</td>\n",
              "      <td>2022</td>\n",
              "    </tr>\n",
              "    <tr>\n",
              "      <th>...</th>\n",
              "      <td>...</td>\n",
              "      <td>...</td>\n",
              "    </tr>\n",
              "    <tr>\n",
              "      <th>995</th>\n",
              "      <td>1978</td>\n",
              "      <td>2014</td>\n",
              "    </tr>\n",
              "    <tr>\n",
              "      <th>996</th>\n",
              "      <td>1993</td>\n",
              "      <td>2014</td>\n",
              "    </tr>\n",
              "    <tr>\n",
              "      <th>997</th>\n",
              "      <td>1998</td>\n",
              "      <td>2014</td>\n",
              "    </tr>\n",
              "    <tr>\n",
              "      <th>998</th>\n",
              "      <td>2017</td>\n",
              "      <td>2014</td>\n",
              "    </tr>\n",
              "    <tr>\n",
              "      <th>999</th>\n",
              "      <td>2034</td>\n",
              "      <td>2014</td>\n",
              "    </tr>\n",
              "  </tbody>\n",
              "</table>\n",
              "<p>1000 rows × 2 columns</p>\n",
              "</div>\n",
              "      <button class=\"colab-df-convert\" onclick=\"convertToInteractive('df-dfb32b16-0436-42ab-8eb8-ffdd4d7edfe9')\"\n",
              "              title=\"Convert this dataframe to an interactive table.\"\n",
              "              style=\"display:none;\">\n",
              "\n",
              "  <svg xmlns=\"http://www.w3.org/2000/svg\" height=\"24px\"viewBox=\"0 0 24 24\"\n",
              "       width=\"24px\">\n",
              "    <path d=\"M0 0h24v24H0V0z\" fill=\"none\"/>\n",
              "    <path d=\"M18.56 5.44l.94 2.06.94-2.06 2.06-.94-2.06-.94-.94-2.06-.94 2.06-2.06.94zm-11 1L8.5 8.5l.94-2.06 2.06-.94-2.06-.94L8.5 2.5l-.94 2.06-2.06.94zm10 10l.94 2.06.94-2.06 2.06-.94-2.06-.94-.94-2.06-.94 2.06-2.06.94z\"/><path d=\"M17.41 7.96l-1.37-1.37c-.4-.4-.92-.59-1.43-.59-.52 0-1.04.2-1.43.59L10.3 9.45l-7.72 7.72c-.78.78-.78 2.05 0 2.83L4 21.41c.39.39.9.59 1.41.59.51 0 1.02-.2 1.41-.59l7.78-7.78 2.81-2.81c.8-.78.8-2.07 0-2.86zM5.41 20L4 18.59l7.72-7.72 1.47 1.35L5.41 20z\"/>\n",
              "  </svg>\n",
              "      </button>\n",
              "\n",
              "\n",
              "\n",
              "    <div id=\"df-e32e5ce0-2e45-498a-9852-2922f44afe8f\">\n",
              "      <button class=\"colab-df-quickchart\" onclick=\"quickchart('df-e32e5ce0-2e45-498a-9852-2922f44afe8f')\"\n",
              "              title=\"Suggest charts.\"\n",
              "              style=\"display:none;\">\n",
              "\n",
              "<svg xmlns=\"http://www.w3.org/2000/svg\" height=\"24px\"viewBox=\"0 0 24 24\"\n",
              "     width=\"24px\">\n",
              "    <g>\n",
              "        <path d=\"M19 3H5c-1.1 0-2 .9-2 2v14c0 1.1.9 2 2 2h14c1.1 0 2-.9 2-2V5c0-1.1-.9-2-2-2zM9 17H7v-7h2v7zm4 0h-2V7h2v10zm4 0h-2v-4h2v4z\"/>\n",
              "    </g>\n",
              "</svg>\n",
              "      </button>\n",
              "    </div>\n",
              "\n",
              "<style>\n",
              "  .colab-df-quickchart {\n",
              "    background-color: #E8F0FE;\n",
              "    border: none;\n",
              "    border-radius: 50%;\n",
              "    cursor: pointer;\n",
              "    display: none;\n",
              "    fill: #1967D2;\n",
              "    height: 32px;\n",
              "    padding: 0 0 0 0;\n",
              "    width: 32px;\n",
              "  }\n",
              "\n",
              "  .colab-df-quickchart:hover {\n",
              "    background-color: #E2EBFA;\n",
              "    box-shadow: 0px 1px 2px rgba(60, 64, 67, 0.3), 0px 1px 3px 1px rgba(60, 64, 67, 0.15);\n",
              "    fill: #174EA6;\n",
              "  }\n",
              "\n",
              "  [theme=dark] .colab-df-quickchart {\n",
              "    background-color: #3B4455;\n",
              "    fill: #D2E3FC;\n",
              "  }\n",
              "\n",
              "  [theme=dark] .colab-df-quickchart:hover {\n",
              "    background-color: #434B5C;\n",
              "    box-shadow: 0px 1px 3px 1px rgba(0, 0, 0, 0.15);\n",
              "    filter: drop-shadow(0px 1px 2px rgba(0, 0, 0, 0.3));\n",
              "    fill: #FFFFFF;\n",
              "  }\n",
              "</style>\n",
              "\n",
              "    <script>\n",
              "      async function quickchart(key) {\n",
              "        const containerElement = document.querySelector('#' + key);\n",
              "        const charts = await google.colab.kernel.invokeFunction(\n",
              "            'suggestCharts', [key], {});\n",
              "      }\n",
              "    </script>\n",
              "\n",
              "      <script>\n",
              "\n",
              "function displayQuickchartButton(domScope) {\n",
              "  let quickchartButtonEl =\n",
              "    domScope.querySelector('#df-e32e5ce0-2e45-498a-9852-2922f44afe8f button.colab-df-quickchart');\n",
              "  quickchartButtonEl.style.display =\n",
              "    google.colab.kernel.accessAllowed ? 'block' : 'none';\n",
              "}\n",
              "\n",
              "        displayQuickchartButton(document);\n",
              "      </script>\n",
              "      <style>\n",
              "    .colab-df-container {\n",
              "      display:flex;\n",
              "      flex-wrap:wrap;\n",
              "      gap: 12px;\n",
              "    }\n",
              "\n",
              "    .colab-df-convert {\n",
              "      background-color: #E8F0FE;\n",
              "      border: none;\n",
              "      border-radius: 50%;\n",
              "      cursor: pointer;\n",
              "      display: none;\n",
              "      fill: #1967D2;\n",
              "      height: 32px;\n",
              "      padding: 0 0 0 0;\n",
              "      width: 32px;\n",
              "    }\n",
              "\n",
              "    .colab-df-convert:hover {\n",
              "      background-color: #E2EBFA;\n",
              "      box-shadow: 0px 1px 2px rgba(60, 64, 67, 0.3), 0px 1px 3px 1px rgba(60, 64, 67, 0.15);\n",
              "      fill: #174EA6;\n",
              "    }\n",
              "\n",
              "    [theme=dark] .colab-df-convert {\n",
              "      background-color: #3B4455;\n",
              "      fill: #D2E3FC;\n",
              "    }\n",
              "\n",
              "    [theme=dark] .colab-df-convert:hover {\n",
              "      background-color: #434B5C;\n",
              "      box-shadow: 0px 1px 3px 1px rgba(0, 0, 0, 0.15);\n",
              "      filter: drop-shadow(0px 1px 2px rgba(0, 0, 0, 0.3));\n",
              "      fill: #FFFFFF;\n",
              "    }\n",
              "  </style>\n",
              "\n",
              "      <script>\n",
              "        const buttonEl =\n",
              "          document.querySelector('#df-dfb32b16-0436-42ab-8eb8-ffdd4d7edfe9 button.colab-df-convert');\n",
              "        buttonEl.style.display =\n",
              "          google.colab.kernel.accessAllowed ? 'block' : 'none';\n",
              "\n",
              "        async function convertToInteractive(key) {\n",
              "          const element = document.querySelector('#df-dfb32b16-0436-42ab-8eb8-ffdd4d7edfe9');\n",
              "          const dataTable =\n",
              "            await google.colab.kernel.invokeFunction('convertToInteractive',\n",
              "                                                     [key], {});\n",
              "          if (!dataTable) return;\n",
              "\n",
              "          const docLinkHtml = 'Like what you see? Visit the ' +\n",
              "            '<a target=\"_blank\" href=https://colab.research.google.com/notebooks/data_table.ipynb>data table notebook</a>'\n",
              "            + ' to learn more about interactive tables.';\n",
              "          element.innerHTML = '';\n",
              "          dataTable['output_type'] = 'display_data';\n",
              "          await google.colab.output.renderOutput(dataTable, element);\n",
              "          const docLink = document.createElement('div');\n",
              "          docLink.innerHTML = docLinkHtml;\n",
              "          element.appendChild(docLink);\n",
              "        }\n",
              "      </script>\n",
              "    </div>\n",
              "  </div>\n"
            ]
          },
          "metadata": {},
          "execution_count": 8
        }
      ]
    },
    {
      "cell_type": "markdown",
      "source": [
        "**REPRESENTACIONES GRÁFICAS**\n"
      ],
      "metadata": {
        "id": "nVT7XNCBciKi"
      }
    },
    {
      "cell_type": "markdown",
      "source": [
        "*GRÁFICA 1: LINEAL*\n",
        "\n",
        "> La gráfica permide evidenciar el incremento que ha tenido la taza de cambio de la modena colombiana con respecto al dolar. Entre 2015 y 2018 hubo una pequeña estabilidad en la taza de cambio con algunos picos a los largo de ese periodo. Adicionalmente, es posible ver el incerremento acelerado que a tenido el peso colombiano en el 2022, pasando de 4.000 a 5.000.\n",
        "\n"
      ],
      "metadata": {
        "id": "QBUlVU-gc0JG"
      }
    },
    {
      "cell_type": "code",
      "source": [
        "#REPRESENTACIONES GRÁFICAS\n",
        "#Gráfica 1\n",
        "datos.plot(x = 'Año', y = 'Pesos', color = 'green', linewidth = 2, title = 'Taza de Cambio Representativa del Mercado TRM')\n"
      ],
      "metadata": {
        "colab": {
          "base_uri": "https://localhost:8080/",
          "height": 489
        },
        "id": "Yo55o-uXb5cY",
        "outputId": "a033239a-d1e3-4c2b-96d2-8bfd594703d8"
      },
      "execution_count": 9,
      "outputs": [
        {
          "output_type": "execute_result",
          "data": {
            "text/plain": [
              "<Axes: title={'center': 'Taza de Cambio Representativa del Mercado TRM'}, xlabel='Año'>"
            ]
          },
          "metadata": {},
          "execution_count": 9
        },
        {
          "output_type": "display_data",
          "data": {
            "text/plain": [
              "<Figure size 640x480 with 1 Axes>"
            ],
            "image/png": "[encoded data removed]"
          },
          "metadata": {}
        }
      ]
    },
    {
      "cell_type": "markdown",
      "source": [
        "*GRÁFICA 2: BOXPLOT*\n",
        "\n",
        "> La boxplot permite ver los datos de una forma novedosa y diferente a la que normalmente se presenta. A partir de la gráfica es posible identificar que la media de los datos es aproximadamente 3.000 pesos colombianos y que aproximadamente el 50% de los datos se ubican entre 2.500 y 3.600. Adicionalmente es posible decir que el valor mínimo que adquiere el peso colombiano es de menos de 2.000 y el valor máximo se encuentra por encima de 5.000.\n",
        "\n"
      ],
      "metadata": {
        "id": "jig5Z7JzcduM"
      }
    },
    {
      "cell_type": "code",
      "source": [
        "#Gráfica 2\n",
        "datos.boxplot('Pesos')"
      ],
      "metadata": {
        "colab": {
          "base_uri": "https://localhost:8080/",
          "height": 447
        },
        "id": "X2QYplyycCIn",
        "outputId": "a3f6d01f-d244-4cab-f311-3f5943e82ea8"
      },
      "execution_count": 10,
      "outputs": [
        {
          "output_type": "execute_result",
          "data": {
            "text/plain": [
              "<Axes: >"
            ]
          },
          "metadata": {},
          "execution_count": 10
        },
        {
          "output_type": "display_data",
          "data": {
            "text/plain": [
              "<Figure size 640x480 with 1 Axes>"
            ],
            "image/png": "[encoded data removed]"
          },
          "metadata": {}
        }
      ]
    },
    {
      "cell_type": "markdown",
      "source": [
        "##**SEGUNDO ANÁLISIS DE DATOS**\n",
        "\n",
        "> Aplicación de dosis de vacuna contra COVID-19 en el 2021\n",
        "\n"
      ],
      "metadata": {
        "id": "Djk4F4_ASiAx"
      }
    },
    {
      "cell_type": "code",
      "source": [
        "result_2 = cliente.get(\"prrv-jnta\")\n",
        "\n",
        "datos_2 = pd.DataFrame.from_records (result_2)\n",
        "\n",
        "datos_2"
      ],
      "metadata": {
        "colab": {
          "base_uri": "https://localhost:8080/",
          "height": 424
        },
        "id": "ucSqcq-XUCKg",
        "outputId": "04fe6d9a-e93d-4a92-8c53-2482da47f0dc"
      },
      "execution_count": 11,
      "outputs": [
        {
          "output_type": "execute_result",
          "data": {
            "text/plain": [
              "            fecha_aplicaci_n   a_o cod_territorio      nom_territorio  \\\n",
              "0    2021-02-17T00:00:00.000  2021             23             Córdoba   \n",
              "1    2021-02-17T00:00:00.000  2021             70               Sucre   \n",
              "2    2021-02-18T00:00:00.000  2021             05           Antioquia   \n",
              "3    2021-02-18T00:00:00.000  2021          08001        Barranquilla   \n",
              "4    2021-02-18T00:00:00.000  2021             11              Bogotá   \n",
              "..                       ...   ...            ...                 ...   \n",
              "995  2021-03-23T00:00:00.000  2021             47           Magdalena   \n",
              "996  2021-03-23T00:00:00.000  2021          47001         Santa Marta   \n",
              "997  2021-03-23T00:00:00.000  2021             50                Meta   \n",
              "998  2021-03-23T00:00:00.000  2021             52              Nariño   \n",
              "999  2021-03-23T00:00:00.000  2021             54  Norte de Santander   \n",
              "\n",
              "    cantidad_dosis_aplicadas              fecha_corte  \n",
              "0                          6  2023-02-28T00:00:00.000  \n",
              "1                         12  2023-02-28T00:00:00.000  \n",
              "2                       1019  2023-02-28T00:00:00.000  \n",
              "3                        631  2023-02-28T00:00:00.000  \n",
              "4                       5486  2023-02-28T00:00:00.000  \n",
              "..                       ...                      ...  \n",
              "995                     1070  2023-02-28T00:00:00.000  \n",
              "996                      463  2023-02-28T00:00:00.000  \n",
              "997                      611  2023-02-28T00:00:00.000  \n",
              "998                     2552  2023-02-28T00:00:00.000  \n",
              "999                     1832  2023-02-28T00:00:00.000  \n",
              "\n",
              "[1000 rows x 6 columns]"
            ],
            "text/html": [
              "\n",
              "\n",
              "  <div id=\"df-223b89c4-35a7-47ec-a237-b95a4f88f68e\">\n",
              "    <div class=\"colab-df-container\">\n",
              "      <div>\n",
              "<style scoped>\n",
              "    .dataframe tbody tr th:only-of-type {\n",
              "        vertical-align: middle;\n",
              "    }\n",
              "\n",
              "    .dataframe tbody tr th {\n",
              "        vertical-align: top;\n",
              "    }\n",
              "\n",
              "    .dataframe thead th {\n",
              "        text-align: right;\n",
              "    }\n",
              "</style>\n",
              "<table border=\"1\" class=\"dataframe\">\n",
              "  <thead>\n",
              "    <tr style=\"text-align: right;\">\n",
              "      <th></th>\n",
              "      <th>fecha_aplicaci_n</th>\n",
              "      <th>a_o</th>\n",
              "      <th>cod_territorio</th>\n",
              "      <th>nom_territorio</th>\n",
              "      <th>cantidad_dosis_aplicadas</th>\n",
              "      <th>fecha_corte</th>\n",
              "    </tr>\n",
              "  </thead>\n",
              "  <tbody>\n",
              "    <tr>\n",
              "      <th>0</th>\n",
              "      <td>2021-02-17T00:00:00.000</td>\n",
              "      <td>2021</td>\n",
              "      <td>23</td>\n",
              "      <td>Córdoba</td>\n",
              "      <td>6</td>\n",
              "      <td>2023-02-28T00:00:00.000</td>\n",
              "    </tr>\n",
              "    <tr>\n",
              "      <th>1</th>\n",
              "      <td>2021-02-17T00:00:00.000</td>\n",
              "      <td>2021</td>\n",
              "      <td>70</td>\n",
              "      <td>Sucre</td>\n",
              "      <td>12</td>\n",
              "      <td>2023-02-28T00:00:00.000</td>\n",
              "    </tr>\n",
              "    <tr>\n",
              "      <th>2</th>\n",
              "      <td>2021-02-18T00:00:00.000</td>\n",
              "      <td>2021</td>\n",
              "      <td>05</td>\n",
              "      <td>Antioquia</td>\n",
              "      <td>1019</td>\n",
              "      <td>2023-02-28T00:00:00.000</td>\n",
              "    </tr>\n",
              "    <tr>\n",
              "      <th>3</th>\n",
              "      <td>2021-02-18T00:00:00.000</td>\n",
              "      <td>2021</td>\n",
              "      <td>08001</td>\n",
              "      <td>Barranquilla</td>\n",
              "      <td>631</td>\n",
              "      <td>2023-02-28T00:00:00.000</td>\n",
              "    </tr>\n",
              "    <tr>\n",
              "      <th>4</th>\n",
              "      <td>2021-02-18T00:00:00.000</td>\n",
              "      <td>2021</td>\n",
              "      <td>11</td>\n",
              "      <td>Bogotá</td>\n",
              "      <td>5486</td>\n",
              "      <td>2023-02-28T00:00:00.000</td>\n",
              "    </tr>\n",
              "    <tr>\n",
              "      <th>...</th>\n",
              "      <td>...</td>\n",
              "      <td>...</td>\n",
              "      <td>...</td>\n",
              "      <td>...</td>\n",
              "      <td>...</td>\n",
              "      <td>...</td>\n",
              "    </tr>\n",
              "    <tr>\n",
              "      <th>995</th>\n",
              "      <td>2021-03-23T00:00:00.000</td>\n",
              "      <td>2021</td>\n",
              "      <td>47</td>\n",
              "      <td>Magdalena</td>\n",
              "      <td>1070</td>\n",
              "      <td>2023-02-28T00:00:00.000</td>\n",
              "    </tr>\n",
              "    <tr>\n",
              "      <th>996</th>\n",
              "      <td>2021-03-23T00:00:00.000</td>\n",
              "      <td>2021</td>\n",
              "      <td>47001</td>\n",
              "      <td>Santa Marta</td>\n",
              "      <td>463</td>\n",
              "      <td>2023-02-28T00:00:00.000</td>\n",
              "    </tr>\n",
              "    <tr>\n",
              "      <th>997</th>\n",
              "      <td>2021-03-23T00:00:00.000</td>\n",
              "      <td>2021</td>\n",
              "      <td>50</td>\n",
              "      <td>Meta</td>\n",
              "      <td>611</td>\n",
              "      <td>2023-02-28T00:00:00.000</td>\n",
              "    </tr>\n",
              "    <tr>\n",
              "      <th>998</th>\n",
              "      <td>2021-03-23T00:00:00.000</td>\n",
              "      <td>2021</td>\n",
              "      <td>52</td>\n",
              "      <td>Nariño</td>\n",
              "      <td>2552</td>\n",
              "      <td>2023-02-28T00:00:00.000</td>\n",
              "    </tr>\n",
              "    <tr>\n",
              "      <th>999</th>\n",
              "      <td>2021-03-23T00:00:00.000</td>\n",
              "      <td>2021</td>\n",
              "      <td>54</td>\n",
              "      <td>Norte de Santander</td>\n",
              "      <td>1832</td>\n",
              "      <td>2023-02-28T00:00:00.000</td>\n",
              "    </tr>\n",
              "  </tbody>\n",
              "</table>\n",
              "<p>1000 rows × 6 columns</p>\n",
              "</div>\n",
              "      <button class=\"colab-df-convert\" onclick=\"convertToInteractive('df-223b89c4-35a7-47ec-a237-b95a4f88f68e')\"\n",
              "              title=\"Convert this dataframe to an interactive table.\"\n",
              "              style=\"display:none;\">\n",
              "\n",
              "  <svg xmlns=\"http://www.w3.org/2000/svg\" height=\"24px\"viewBox=\"0 0 24 24\"\n",
              "       width=\"24px\">\n",
              "    <path d=\"M0 0h24v24H0V0z\" fill=\"none\"/>\n",
              "    <path d=\"M18.56 5.44l.94 2.06.94-2.06 2.06-.94-2.06-.94-.94-2.06-.94 2.06-2.06.94zm-11 1L8.5 8.5l.94-2.06 2.06-.94-2.06-.94L8.5 2.5l-.94 2.06-2.06.94zm10 10l.94 2.06.94-2.06 2.06-.94-2.06-.94-.94-2.06-.94 2.06-2.06.94z\"/><path d=\"M17.41 7.96l-1.37-1.37c-.4-.4-.92-.59-1.43-.59-.52 0-1.04.2-1.43.59L10.3 9.45l-7.72 7.72c-.78.78-.78 2.05 0 2.83L4 21.41c.39.39.9.59 1.41.59.51 0 1.02-.2 1.41-.59l7.78-7.78 2.81-2.81c.8-.78.8-2.07 0-2.86zM5.41 20L4 18.59l7.72-7.72 1.47 1.35L5.41 20z\"/>\n",
              "  </svg>\n",
              "      </button>\n",
              "\n",
              "\n",
              "\n",
              "    <div id=\"df-2c36b502-d707-4363-bdac-0cff0cc502c0\">\n",
              "      <button class=\"colab-df-quickchart\" onclick=\"quickchart('df-2c36b502-d707-4363-bdac-0cff0cc502c0')\"\n",
              "              title=\"Suggest charts.\"\n",
              "              style=\"display:none;\">\n",
              "\n",
              "<svg xmlns=\"http://www.w3.org/2000/svg\" height=\"24px\"viewBox=\"0 0 24 24\"\n",
              "     width=\"24px\">\n",
              "    <g>\n",
              "        <path d=\"M19 3H5c-1.1 0-2 .9-2 2v14c0 1.1.9 2 2 2h14c1.1 0 2-.9 2-2V5c0-1.1-.9-2-2-2zM9 17H7v-7h2v7zm4 0h-2V7h2v10zm4 0h-2v-4h2v4z\"/>\n",
              "    </g>\n",
              "</svg>\n",
              "      </button>\n",
              "    </div>\n",
              "\n",
              "<style>\n",
              "  .colab-df-quickchart {\n",
              "    background-color: #E8F0FE;\n",
              "    border: none;\n",
              "    border-radius: 50%;\n",
              "    cursor: pointer;\n",
              "    display: none;\n",
              "    fill: #1967D2;\n",
              "    height: 32px;\n",
              "    padding: 0 0 0 0;\n",
              "    width: 32px;\n",
              "  }\n",
              "\n",
              "  .colab-df-quickchart:hover {\n",
              "    background-color: #E2EBFA;\n",
              "    box-shadow: 0px 1px 2px rgba(60, 64, 67, 0.3), 0px 1px 3px 1px rgba(60, 64, 67, 0.15);\n",
              "    fill: #174EA6;\n",
              "  }\n",
              "\n",
              "  [theme=dark] .colab-df-quickchart {\n",
              "    background-color: #3B4455;\n",
              "    fill: #D2E3FC;\n",
              "  }\n",
              "\n",
              "  [theme=dark] .colab-df-quickchart:hover {\n",
              "    background-color: #434B5C;\n",
              "    box-shadow: 0px 1px 3px 1px rgba(0, 0, 0, 0.15);\n",
              "    filter: drop-shadow(0px 1px 2px rgba(0, 0, 0, 0.3));\n",
              "    fill: #FFFFFF;\n",
              "  }\n",
              "</style>\n",
              "\n",
              "    <script>\n",
              "      async function quickchart(key) {\n",
              "        const containerElement = document.querySelector('#' + key);\n",
              "        const charts = await google.colab.kernel.invokeFunction(\n",
              "            'suggestCharts', [key], {});\n",
              "      }\n",
              "    </script>\n",
              "\n",
              "      <script>\n",
              "\n",
              "function displayQuickchartButton(domScope) {\n",
              "  let quickchartButtonEl =\n",
              "    domScope.querySelector('#df-2c36b502-d707-4363-bdac-0cff0cc502c0 button.colab-df-quickchart');\n",
              "  quickchartButtonEl.style.display =\n",
              "    google.colab.kernel.accessAllowed ? 'block' : 'none';\n",
              "}\n",
              "\n",
              "        displayQuickchartButton(document);\n",
              "      </script>\n",
              "      <style>\n",
              "    .colab-df-container {\n",
              "      display:flex;\n",
              "      flex-wrap:wrap;\n",
              "      gap: 12px;\n",
              "    }\n",
              "\n",
              "    .colab-df-convert {\n",
              "      background-color: #E8F0FE;\n",
              "      border: none;\n",
              "      border-radius: 50%;\n",
              "      cursor: pointer;\n",
              "      display: none;\n",
              "      fill: #1967D2;\n",
              "      height: 32px;\n",
              "      padding: 0 0 0 0;\n",
              "      width: 32px;\n",
              "    }\n",
              "\n",
              "    .colab-df-convert:hover {\n",
              "      background-color: #E2EBFA;\n",
              "      box-shadow: 0px 1px 2px rgba(60, 64, 67, 0.3), 0px 1px 3px 1px rgba(60, 64, 67, 0.15);\n",
              "      fill: #174EA6;\n",
              "    }\n",
              "\n",
              "    [theme=dark] .colab-df-convert {\n",
              "      background-color: #3B4455;\n",
              "      fill: #D2E3FC;\n",
              "    }\n",
              "\n",
              "    [theme=dark] .colab-df-convert:hover {\n",
              "      background-color: #434B5C;\n",
              "      box-shadow: 0px 1px 3px 1px rgba(0, 0, 0, 0.15);\n",
              "      filter: drop-shadow(0px 1px 2px rgba(0, 0, 0, 0.3));\n",
              "      fill: #FFFFFF;\n",
              "    }\n",
              "  </style>\n",
              "\n",
              "      <script>\n",
              "        const buttonEl =\n",
              "          document.querySelector('#df-223b89c4-35a7-47ec-a237-b95a4f88f68e button.colab-df-convert');\n",
              "        buttonEl.style.display =\n",
              "          google.colab.kernel.accessAllowed ? 'block' : 'none';\n",
              "\n",
              "        async function convertToInteractive(key) {\n",
              "          const element = document.querySelector('#df-223b89c4-35a7-47ec-a237-b95a4f88f68e');\n",
              "          const dataTable =\n",
              "            await google.colab.kernel.invokeFunction('convertToInteractive',\n",
              "                                                     [key], {});\n",
              "          if (!dataTable) return;\n",
              "\n",
              "          const docLinkHtml = 'Like what you see? Visit the ' +\n",
              "            '<a target=\"_blank\" href=https://colab.research.google.com/notebooks/data_table.ipynb>data table notebook</a>'\n",
              "            + ' to learn more about interactive tables.';\n",
              "          element.innerHTML = '';\n",
              "          dataTable['output_type'] = 'display_data';\n",
              "          await google.colab.output.renderOutput(dataTable, element);\n",
              "          const docLink = document.createElement('div');\n",
              "          docLink.innerHTML = docLinkHtml;\n",
              "          element.appendChild(docLink);\n",
              "        }\n",
              "      </script>\n",
              "    </div>\n",
              "  </div>\n"
            ]
          },
          "metadata": {},
          "execution_count": 11
        }
      ]
    },
    {
      "cell_type": "markdown",
      "source": [
        "**LIMPIEZA Y TRANSFORMACIÓN DE LOS DATOS**"
      ],
      "metadata": {
        "id": "DFrMBCZ9Uupw"
      }
    },
    {
      "cell_type": "code",
      "source": [
        "#LIMPIEZA Y TRANSFORMACIÓN DE LOS DATOS\n",
        "\n",
        "#Eliminar datos nulos\n",
        "datos_2 = datos_2.dropna(axis = 0, how = 'any')\n",
        "\n",
        "#Borrar la columna \"vigenciahasta\" y \"unidad\"\n",
        "del(datos_2['fecha_corte'])\n",
        "del(datos_2['cod_territorio'])\n",
        "del(datos_2['fecha_aplicaci_n'])\n",
        "\n",
        "#Renombrar la columna \"vigenciadesde\"\n",
        "datos_2 = datos_2.rename( columns = {\"a_o\": \"Año\"})\n",
        "datos_2\n",
        "\n",
        "#Tipo de datos\n",
        "datos_2.dtypes\n",
        "\n",
        "#Transformación del tipo de datos de un \"object\" a \"int\"\n",
        "datos_2['cantidad_dosis_aplicadas'] = datos_2['cantidad_dosis_aplicadas'].astype(int)\n",
        "datos_2.dtypes"
      ],
      "metadata": {
        "colab": {
          "base_uri": "https://localhost:8080/"
        },
        "id": "pkER6fPWU3No",
        "outputId": "8bf43509-d9db-4975-900f-03a02202d80c"
      },
      "execution_count": 12,
      "outputs": [
        {
          "output_type": "execute_result",
          "data": {
            "text/plain": [
              "Año                         object\n",
              "nom_territorio              object\n",
              "cantidad_dosis_aplicadas     int64\n",
              "dtype: object"
            ]
          },
          "metadata": {},
          "execution_count": 12
        }
      ]
    },
    {
      "cell_type": "markdown",
      "source": [
        "**DATOS ESTADÍSTICOS**"
      ],
      "metadata": {
        "id": "TznLHunaU-Dn"
      }
    },
    {
      "cell_type": "code",
      "source": [
        "#DATOS ESTADÍSTICOS\n",
        "\n",
        "#Calculo de la media\n",
        "media_2 = datos_2.cantidad_dosis_aplicadas.mean()\n",
        "print(f\"La MEDIA de la cantidad de dosis de vacunas contra el COVID-19 acplicadas en 2021 es de {media_2}\")\n",
        "\n",
        "#Calculo de la mediana\n",
        "mediana_2 = datos_2.cantidad_dosis_aplicadas.median()\n",
        "print(f\"La MEDIANA de la cantidad de dosis de vacunas contra el COVID-19 acplicadas en 2021 es de {mediana_2}\")\n",
        "\n",
        "#Calculo de la desviación estándar\n",
        "desviacion_estandar_2 =  datos_2.cantidad_dosis_aplicadas.std()\n",
        "print(f\"La DESVIACIÓN ESTÁNDAR de la cantidad de dosis de vacunas contra el COVID-19 acplicadas en 2021 es de {desviacion_estandar_2}\")\n",
        "\n",
        "#Calculo del maxímo valor\n",
        "valor_maximo_2 = datos_2.cantidad_dosis_aplicadas.max()\n",
        "print(f\"El VALOR MÁXIMO de la cantidad de dosis de vacunas contra el COVID-19 acplicadas en 2021 es de {valor_maximo_2}\")\n",
        "\n",
        "#Calculo del mínimo valor\n",
        "valor_minimo_2 = datos_2.cantidad_dosis_aplicadas.min()\n",
        "print(f\"El VALOR MÍNIMO de la cantidad de dosis de vacunas contra el COVID-19 acplicadas en 2021 es de {valor_minimo_2}\")\n",
        "\n",
        "#Calculo del rango\n",
        "rango_2 = valor_maximo_2 - valor_minimo_2\n",
        "print(f\"El RANGO de la cantidad de dosis de vacunas contra el COVID-19 acplicadas en 2021 es de {rango_2}\")\n",
        "\n",
        "#Resumen de datos númericos\n",
        "print(f\"Resumen de datos: \\n Media: {media_2} \\n Mediana: {mediana_2} \\n Desviación Estándar: {desviacion_estandar_2} \\n Máximo Valor: {valor_maximo_2} \\n Mínimo Valor: {valor_minimo_2} \\n Rango: {rango_2}\")\n"
      ],
      "metadata": {
        "colab": {
          "base_uri": "https://localhost:8080/"
        },
        "id": "90g2qjsHVCtA",
        "outputId": "13277745-1c6c-40ba-e340-cc77f412f57a"
      },
      "execution_count": 13,
      "outputs": [
        {
          "output_type": "stream",
          "name": "stdout",
          "text": [
            "La MEDIA de la cantidad de dosis de vacunas contra el COVID-19 acplicadas en 2021 es de 1283.486\n",
            "La MEDIANA de la cantidad de dosis de vacunas contra el COVID-19 acplicadas en 2021 es de 529.0\n",
            "La DESVIACIÓN ESTÁNDAR de la cantidad de dosis de vacunas contra el COVID-19 acplicadas en 2021 es de 2398.8794155301457\n",
            "El VALOR MÁXIMO de la cantidad de dosis de vacunas contra el COVID-19 acplicadas en 2021 es de 24445\n",
            "El VALOR MÍNIMO de la cantidad de dosis de vacunas contra el COVID-19 acplicadas en 2021 es de 1\n",
            "El RANGO de la cantidad de dosis de vacunas contra el COVID-19 acplicadas en 2021 es de 24444\n",
            "Resumen de datos: \n",
            " Media: 1283.486 \n",
            " Mediana: 529.0 \n",
            " Desviación Estándar: 2398.8794155301457 \n",
            " Máximo Valor: 24445 \n",
            " Mínimo Valor: 1 \n",
            " Rango: 24444\n"
          ]
        }
      ]
    },
    {
      "cell_type": "markdown",
      "source": [
        "**INFORMACIÓN GENERAL DEL DATASET**"
      ],
      "metadata": {
        "id": "r2dQE_M-VQ1C"
      }
    },
    {
      "cell_type": "code",
      "source": [
        "#INFORMACIÓN GENERAL DEL DATASET\n",
        "datos_2.info()"
      ],
      "metadata": {
        "colab": {
          "base_uri": "https://localhost:8080/"
        },
        "id": "5TaNFG6wVYBM",
        "outputId": "086ebd20-6146-45e5-b4fb-279b28f4a660"
      },
      "execution_count": 14,
      "outputs": [
        {
          "output_type": "stream",
          "name": "stdout",
          "text": [
            "<class 'pandas.core.frame.DataFrame'>\n",
            "RangeIndex: 1000 entries, 0 to 999\n",
            "Data columns (total 3 columns):\n",
            " #   Column                    Non-Null Count  Dtype \n",
            "---  ------                    --------------  ----- \n",
            " 0   Año                       1000 non-null   object\n",
            " 1   nom_territorio            1000 non-null   object\n",
            " 2   cantidad_dosis_aplicadas  1000 non-null   int64 \n",
            "dtypes: int64(1), object(2)\n",
            "memory usage: 23.6+ KB\n"
          ]
        }
      ]
    },
    {
      "cell_type": "markdown",
      "source": [
        "**AGRUPACIÓN DE DATOS**"
      ],
      "metadata": {
        "id": "9xFrGckpVbIx"
      }
    },
    {
      "cell_type": "code",
      "source": [
        "#AGRUPACIÓN de datos\n",
        "agrupacion = datos_2.groupby(datos_2['nom_territorio']).sum()[[\"cantidad_dosis_aplicadas\"]]\n",
        "\n",
        "print(agrupacion)"
      ],
      "metadata": {
        "colab": {
          "base_uri": "https://localhost:8080/"
        },
        "id": "8E9pUHuhVir9",
        "outputId": "a25fc9d3-3fc7-4102-e339-0f5f8ece35db"
      },
      "execution_count": 15,
      "outputs": [
        {
          "output_type": "stream",
          "name": "stdout",
          "text": [
            "                          cantidad_dosis_aplicadas\n",
            "nom_territorio                                    \n",
            "Amazonas                                     23674\n",
            "Antioquia                                   164797\n",
            "Arauca                                        2830\n",
            "Atlántico                                    22563\n",
            "Barranquilla                                 44925\n",
            "Bogotá                                      254422\n",
            "Bolívar                                      29840\n",
            "Boyacá                                       39478\n",
            "Buenaventura                                  1750\n",
            "Caldas                                       29728\n",
            "Caquetá                                       7367\n",
            "Cartagena                                    31395\n",
            "Casanare                                      7280\n",
            "Cauca                                        23367\n",
            "Cesar                                        21611\n",
            "Chocó                                         4994\n",
            "Cundinamarca                                 83151\n",
            "Córdoba                                      35480\n",
            "Guainía                                       8131\n",
            "Guaviare                                      1215\n",
            "Huila                                        22157\n",
            "La Guajira                                   15373\n",
            "Magdalena                                    13154\n",
            "Meta                                         17198\n",
            "Nariño                                       42666\n",
            "Norte de Santander                           31096\n",
            "Putumayo                                      3203\n",
            "Quindío                                      16456\n",
            "Risaralda                                    30252\n",
            "San Andrés y Providencia                       754\n",
            "Santa Marta                                  11192\n",
            "Santander                                    56744\n",
            "Sucre                                        19745\n",
            "Tolima                                       36879\n",
            "Valle del Cauca                             122453\n",
            "Vaupés                                        5607\n",
            "Vichada                                        559\n"
          ]
        },
        {
          "output_type": "stream",
          "name": "stderr",
          "text": [
            "<ipython-input-15-6af336ac9c1d>:2: FutureWarning: The default value of numeric_only in DataFrameGroupBy.sum is deprecated. In a future version, numeric_only will default to False. Either specify numeric_only or select only columns which should be valid for the function.\n",
            "  agrupacion = datos_2.groupby(datos_2['nom_territorio']).sum()[[\"cantidad_dosis_aplicadas\"]]\n"
          ]
        }
      ]
    },
    {
      "cell_type": "markdown",
      "source": [
        "**TABLA PIVOTE**"
      ],
      "metadata": {
        "id": "WaAcmqezVn9M"
      }
    },
    {
      "cell_type": "code",
      "source": [
        "#Tabla Pivote\n",
        "tabla_pivote = datos_2.pivot_table(values = \"cantidad_dosis_aplicadas\", index =['nom_territorio'], aggfunc= 'count')\n",
        "print(tabla_pivote)"
      ],
      "metadata": {
        "colab": {
          "base_uri": "https://localhost:8080/"
        },
        "id": "I3xQmPWMVuvz",
        "outputId": "66e7ddce-c3d9-4d68-91ee-e295b9436f8d"
      },
      "execution_count": 16,
      "outputs": [
        {
          "output_type": "stream",
          "name": "stdout",
          "text": [
            "                          cantidad_dosis_aplicadas\n",
            "nom_territorio                                    \n",
            "Amazonas                                        25\n",
            "Antioquia                                       33\n",
            "Arauca                                          26\n",
            "Atlántico                                       29\n",
            "Barranquilla                                    34\n",
            "Bogotá                                          32\n",
            "Bolívar                                         24\n",
            "Boyacá                                          30\n",
            "Buenaventura                                    21\n",
            "Caldas                                          26\n",
            "Caquetá                                         26\n",
            "Cartagena                                       33\n",
            "Casanare                                        27\n",
            "Cauca                                           24\n",
            "Cesar                                           31\n",
            "Chocó                                           23\n",
            "Cundinamarca                                    30\n",
            "Córdoba                                         30\n",
            "Guainía                                         24\n",
            "Guaviare                                        22\n",
            "Huila                                           32\n",
            "La Guajira                                      26\n",
            "Magdalena                                       25\n",
            "Meta                                            27\n",
            "Nariño                                          32\n",
            "Norte de Santander                              31\n",
            "Putumayo                                        25\n",
            "Quindío                                         30\n",
            "Risaralda                                       28\n",
            "San Andrés y Providencia                        18\n",
            "Santa Marta                                     24\n",
            "Santander                                       28\n",
            "Sucre                                           27\n",
            "Tolima                                          27\n",
            "Valle del Cauca                                 32\n",
            "Vaupés                                          21\n",
            "Vichada                                         17\n"
          ]
        }
      ]
    },
    {
      "cell_type": "markdown",
      "source": [
        "**REPRESENTACIONES GRÁFICAS**"
      ],
      "metadata": {
        "id": "7ezWp-DmV1H4"
      }
    },
    {
      "cell_type": "markdown",
      "source": [
        "*GRÁFICA 1*\n",
        "\n",
        "> La gráfica en el eje x por defecto solo presenta algunos de los departamentos que se encuentran en la agrupación. Igualmente es posible ver que las ciudades con mayor npumero de vaciones fue Bogotá superando las 250.000 dosis. Caqueta y Choco fueron unas de las cuides donde el nivel de vacunación fue bajo en 2021.\n",
        "\n"
      ],
      "metadata": {
        "id": "cc9NFWbQV9Zj"
      }
    },
    {
      "cell_type": "code",
      "source": [
        "agrupacion.plot(figsize = (15, 4), title = \"Aplicación de dosis de vacuna contra COVID-19 en el año 2021\")\n",
        "plt.xlabel('Ciudades')\n",
        "plt.ylabel('Cantidad de vacunados')"
      ],
      "metadata": {
        "colab": {
          "base_uri": "https://localhost:8080/",
          "height": 409
        },
        "id": "yoruVCPTV7J8",
        "outputId": "89228fe8-aa07-4580-c346-4286b68ca368"
      },
      "execution_count": 19,
      "outputs": [
        {
          "output_type": "execute_result",
          "data": {
            "text/plain": [
              "Text(0, 0.5, 'Cantidad de vacunados')"
            ]
          },
          "metadata": {},
          "execution_count": 19
        },
        {
          "output_type": "display_data",
          "data": {
            "text/plain": [
              "<Figure size 1500x400 with 1 Axes>"
            ],
            "image/png": "[encoded data removed]"
          },
          "metadata": {}
        }
      ]
    },
    {
      "cell_type": "markdown",
      "source": [
        "*GRÁFICA 2*\n",
        "\n",
        "> En la gráfica que se optuvo de la tabla de pivote se encontró que la cantidad de jornadas de vacunación realizadas en el país a lo largo del 2021 estuvo entre 21 a 32 jornadas.\n",
        "\n"
      ],
      "metadata": {
        "id": "cfJ6J1nBWJBU"
      }
    },
    {
      "cell_type": "code",
      "source": [
        "tabla_pivote.plot(figsize = (15, 4), title = \"Aplicación de dosis de vacuna contra COVID-19 en el año 2021\")\n",
        "plt.xlabel('Ciudades')\n",
        "plt.ylabel('Jornadas de vacunación')"
      ],
      "metadata": {
        "colab": {
          "base_uri": "https://localhost:8080/",
          "height": 416
        },
        "id": "a1uiXT2lWM_c",
        "outputId": "c9264be6-9f86-4f22-ccba-83894b0119fb"
      },
      "execution_count": 20,
      "outputs": [
        {
          "output_type": "execute_result",
          "data": {
            "text/plain": [
              "Text(0, 0.5, 'Jornadas de vacunación')"
            ]
          },
          "metadata": {},
          "execution_count": 20
        },
        {
          "output_type": "display_data",
          "data": {
            "text/plain": [
              "<Figure size 1500x400 with 1 Axes>"
            ],
            "image/png": "[encoded data removed]"
          },
          "metadata": {}
        }
      ]
    }
  ]
}